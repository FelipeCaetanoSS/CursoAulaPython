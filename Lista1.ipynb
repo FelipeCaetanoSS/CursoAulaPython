{
  "nbformat": 4,
  "nbformat_minor": 0,
  "metadata": {
    "colab": {
      "provenance": [],
      "authorship_tag": "ABX9TyPQ3U8jEBqJt3ARG/6z+NwL",
      "include_colab_link": true
    },
    "kernelspec": {
      "name": "python3",
      "display_name": "Python 3"
    },
    "language_info": {
      "name": "python"
    }
  },
  "cells": [
    {
      "cell_type": "markdown",
      "metadata": {
        "id": "view-in-github",
        "colab_type": "text"
      },
      "source": [
        "<a href=\"https://colab.research.google.com/github/FelipeCaetanoSS/CursoAulaPython/blob/Lista1/Lista1.ipynb\" target=\"_parent\"><img src=\"https://colab.research.google.com/assets/colab-badge.svg\" alt=\"Open In Colab\"/></a>"
      ]
    },
    {
      "cell_type": "markdown",
      "source": [
        "**Exercício 1**"
      ],
      "metadata": {
        "id": "7xC5uxr1VDKi"
      }
    },
    {
      "cell_type": "code",
      "source": [
        "print(\"Olá, estou aprendendo python\")"
      ],
      "metadata": {
        "colab": {
          "base_uri": "https://localhost:8080/"
        },
        "id": "A_xYHgVxVT0p",
        "outputId": "54c2f2a7-bb62-4843-a75c-2910e2adebcd"
      },
      "execution_count": null,
      "outputs": [
        {
          "output_type": "stream",
          "name": "stdout",
          "text": [
            "Olá, estou aprendendo python\n"
          ]
        }
      ]
    },
    {
      "cell_type": "markdown",
      "source": [
        "**Exercício 2**"
      ],
      "metadata": {
        "id": "TnxxK8k8VSGM"
      }
    },
    {
      "cell_type": "code",
      "source": [
        "nome = \"Felipe\"\n",
        "idade = 20\n",
        "print(nome)\n",
        "print(idade)"
      ],
      "metadata": {
        "colab": {
          "base_uri": "https://localhost:8080/"
        },
        "id": "MO2VSvC7VUP7",
        "outputId": "c530a87f-0c24-48e8-f19c-84a73c87fe80"
      },
      "execution_count": null,
      "outputs": [
        {
          "output_type": "stream",
          "name": "stdout",
          "text": [
            "Felipe\n",
            "20\n"
          ]
        }
      ]
    },
    {
      "cell_type": "markdown",
      "source": [
        "**Exercício 3**"
      ],
      "metadata": {
        "id": "bDbx-VGNVSLK"
      }
    },
    {
      "cell_type": "code",
      "source": [
        "nome = \"Felipe\"\n",
        "saudação = \"Olá, \"\n",
        "print(saudação + nome)"
      ],
      "metadata": {
        "colab": {
          "base_uri": "https://localhost:8080/"
        },
        "id": "0RIalPbWVUq6",
        "outputId": "74a543f2-0d5c-4382-962c-0fa816930891"
      },
      "execution_count": null,
      "outputs": [
        {
          "output_type": "stream",
          "name": "stdout",
          "text": [
            "Olá, Felipe\n"
          ]
        }
      ]
    },
    {
      "cell_type": "markdown",
      "source": [
        "**Exercício 4**"
      ],
      "metadata": {
        "id": "Cp1aWUROVSQa"
      }
    },
    {
      "cell_type": "code",
      "source": [
        "lembrete1 = \"Abrir janela\"\n",
        "lembrete2 = \"Guardar comida\"\n",
        "lembrete3 = \"Fazer exercício\"\n",
        "print(lembrete1)\n",
        "print(lembrete2)\n",
        "print(lembrete3)\n"
      ],
      "metadata": {
        "colab": {
          "base_uri": "https://localhost:8080/"
        },
        "id": "shZAv5tMVVJh",
        "outputId": "9bdfb01a-697e-44ed-d95b-c7b7800d9642"
      },
      "execution_count": null,
      "outputs": [
        {
          "output_type": "stream",
          "name": "stdout",
          "text": [
            "Abrir janela\n",
            "Guardar comida\n",
            "Fazer exercício\n"
          ]
        }
      ]
    },
    {
      "cell_type": "markdown",
      "source": [
        "**Exercício 5**"
      ],
      "metadata": {
        "id": "ZR2z_SwhVSV5"
      }
    },
    {
      "cell_type": "code",
      "execution_count": null,
      "metadata": {
        "colab": {
          "base_uri": "https://localhost:8080/"
        },
        "id": "2kp-odVmRnw8",
        "outputId": "c8712874-6adc-483b-f80d-e3ff15f39aa4"
      },
      "outputs": [
        {
          "output_type": "stream",
          "name": "stdout",
          "text": [
            "  * \n",
            " *** \n",
            "*****\n",
            " *** \n",
            "  * \n"
          ]
        }
      ],
      "source": [
        "print(\"  * \")\n",
        "print(\" *** \")\n",
        "print(\"*****\")\n",
        "print(\" *** \")\n",
        "print(\"  * \")"
      ]
    },
    {
      "cell_type": "markdown",
      "source": [
        "**Exercício 6**"
      ],
      "metadata": {
        "id": "ay2zR_aVVWy7"
      }
    },
    {
      "cell_type": "code",
      "source": [
        "nome = \"Felipe\"\n",
        "print(nome)\n"
      ],
      "metadata": {
        "id": "zYB5qN1lVDBp"
      },
      "execution_count": null,
      "outputs": []
    },
    {
      "cell_type": "markdown",
      "source": [
        "**Exercício 7**"
      ],
      "metadata": {
        "id": "kPhBvG91VSjM"
      }
    },
    {
      "cell_type": "code",
      "source": [
        "nome_pai = \"João\"\n",
        "idade_pai = 40\n",
        "nome_mae = \"Maria\"\n",
        "idade_mae = 38\n",
        "quantidade_irmaos = 1\n",
        "\n",
        "print(\"nome do pai é:\",nome_pai)\n",
        "print(\"a idade é:\", idade_pai)\n",
        "print(\"nome da mãe é:\",nome_mae)\n",
        "print(\"a idade é:\",idade_mae)\n",
        "print(\"tem\",quantidade_irmaos,\"irmão(s)\")\n"
      ],
      "metadata": {
        "colab": {
          "base_uri": "https://localhost:8080/"
        },
        "id": "6D7z1eH7VC8q",
        "outputId": "f7e30071-16b6-432d-9a53-59123d976e2e"
      },
      "execution_count": null,
      "outputs": [
        {
          "output_type": "stream",
          "name": "stdout",
          "text": [
            "nome do pai é: João\n",
            "a idade é: 40\n",
            "nome da mãe é: Maria\n",
            "a idade é: 38\n",
            "tem 1 irmão(s)\n"
          ]
        }
      ]
    },
    {
      "cell_type": "markdown",
      "source": [
        "**Exercício 8**"
      ],
      "metadata": {
        "id": "YeUqUYuCVX28"
      }
    },
    {
      "cell_type": "code",
      "source": [
        "valor_prod = 19.99\n",
        "print(\"O preço do produto é:\",valor_prod)"
      ],
      "metadata": {
        "colab": {
          "base_uri": "https://localhost:8080/"
        },
        "id": "waAW2Iwqi2ig",
        "outputId": "38a19f53-0c92-4d4f-ce32-ecf042c21fe7"
      },
      "execution_count": null,
      "outputs": [
        {
          "output_type": "stream",
          "name": "stdout",
          "text": [
            "O preço do produto é : 19.99\n"
          ]
        }
      ]
    },
    {
      "cell_type": "markdown",
      "source": [
        "**Exercício 9**"
      ],
      "metadata": {
        "id": "JGnrj2H0iIM4"
      }
    },
    {
      "cell_type": "code",
      "source": [
        "eh_estudante = True\n",
        "print(eh_estudante)"
      ],
      "metadata": {
        "colab": {
          "base_uri": "https://localhost:8080/"
        },
        "id": "haA7lOlYjejf",
        "outputId": "5e09f3e4-47fa-45d6-9641-f753d17c8c7b"
      },
      "execution_count": null,
      "outputs": [
        {
          "output_type": "stream",
          "name": "stdout",
          "text": [
            "True\n"
          ]
        }
      ]
    },
    {
      "cell_type": "markdown",
      "source": [
        "**Exercício 10**"
      ],
      "metadata": {
        "id": "NkeeM68RiIS3"
      }
    },
    {
      "cell_type": "code",
      "source": [
        "a = 10\n",
        "b = 20\n",
        "\n",
        "print(\"Antes\")\n",
        "print(\"a =\",a)\n",
        "print(\"b =\",b)\n",
        "\n",
        "a,b = b,a\n",
        "\n",
        "print(\"Depois\")\n",
        "print(\"a =\",a)\n",
        "print(\"b =\",b)\n"
      ],
      "metadata": {
        "colab": {
          "base_uri": "https://localhost:8080/"
        },
        "id": "HliDuCX_lZhW",
        "outputId": "bca8b048-5ffd-4de0-c7f2-ec6f1e6ca04a"
      },
      "execution_count": null,
      "outputs": [
        {
          "output_type": "stream",
          "name": "stdout",
          "text": [
            "Antes\n",
            "a = 10\n",
            "b = 20\n",
            "Depois\n",
            "a = 20\n",
            "b = 10\n"
          ]
        }
      ]
    },
    {
      "cell_type": "markdown",
      "source": [
        "**Exercício 11**"
      ],
      "metadata": {
        "id": "4jgdHYg8iKvo"
      }
    },
    {
      "cell_type": "code",
      "source": [
        "a = 50\n",
        "b = 10\n",
        "\n",
        "soma = a + b\n",
        "subtracao = a - b\n",
        "multiplicacao = a * b\n",
        "divisao = a / b\n",
        "\n",
        "print(\"Soma:\", soma)\n",
        "print(\"Subtração:\", subtracao)\n",
        "print(\"Multiplicação:\", multiplicacao)\n",
        "print(\"Divisão:\", divisao)"
      ],
      "metadata": {
        "colab": {
          "base_uri": "https://localhost:8080/"
        },
        "id": "Nh0Lcf1cmhg-",
        "outputId": "6a54b039-e4ac-4a44-8269-c9c1d0493da2"
      },
      "execution_count": null,
      "outputs": [
        {
          "output_type": "stream",
          "name": "stdout",
          "text": [
            "Soma: 60\n",
            "Subtração: 40\n",
            "Multiplicação: 500\n",
            "Divisão: 5.0\n"
          ]
        }
      ]
    },
    {
      "cell_type": "markdown",
      "source": [
        "**Exercício 12**"
      ],
      "metadata": {
        "id": "ZiFKUcayiK0G"
      }
    },
    {
      "cell_type": "code",
      "source": [
        "nota1 = 7.5\n",
        "nota2 = 8.0\n",
        "nota3 = 6.5\n",
        "\n",
        "media = (nota1 + nota2 + nota3) / 3\n",
        "\n",
        "print(\"A média é:\", media)"
      ],
      "metadata": {
        "colab": {
          "base_uri": "https://localhost:8080/"
        },
        "id": "gA185T1smiMG",
        "outputId": "57a9fef3-feb4-4a98-88ac-c5feb1903812"
      },
      "execution_count": null,
      "outputs": [
        {
          "output_type": "stream",
          "name": "stdout",
          "text": [
            "A média é: 7.333333333333333\n"
          ]
        }
      ]
    },
    {
      "cell_type": "markdown",
      "source": [
        "**Exercício 13**"
      ],
      "metadata": {
        "id": "T3readUciK3Y"
      }
    },
    {
      "cell_type": "code",
      "source": [
        "idade = 20\n",
        "\n",
        "qnt_meses = idade * 12\n",
        "\n",
        "print(\"A idade em meses é:\",qnt_meses)"
      ],
      "metadata": {
        "colab": {
          "base_uri": "https://localhost:8080/"
        },
        "id": "cIhVEQ4Fmioe",
        "outputId": "34353d53-372f-4d8d-c3e1-68efaee6077e"
      },
      "execution_count": null,
      "outputs": [
        {
          "output_type": "stream",
          "name": "stdout",
          "text": [
            "A idade em meses é: 240\n"
          ]
        }
      ]
    },
    {
      "cell_type": "markdown",
      "source": [
        "**Exercício 14**"
      ],
      "metadata": {
        "id": "Z9yt-dp4iK6G"
      }
    },
    {
      "cell_type": "code",
      "source": [
        "nome = \"Felipe\"\n",
        "sobrenome = \"Caetano\"\n",
        "nome_completo = nome + \" \" + sobrenome\n",
        "print(nome_completo)"
      ],
      "metadata": {
        "colab": {
          "base_uri": "https://localhost:8080/"
        },
        "id": "3H80ZaOAmjBf",
        "outputId": "0aef8680-f80c-4a09-af55-6d4d06e6aa08"
      },
      "execution_count": null,
      "outputs": [
        {
          "output_type": "stream",
          "name": "stdout",
          "text": [
            "Felipe Caetano\n"
          ]
        }
      ]
    },
    {
      "cell_type": "markdown",
      "source": [
        "**Exercício 15**"
      ],
      "metadata": {
        "id": "P4d8zu0UiK9Y"
      }
    },
    {
      "cell_type": "code",
      "source": [
        "adj = \"lindas\"\n",
        "verbo = \"são\"\n",
        "subs = \"A pessoas\"\n",
        "\n",
        "frase = subs + \" \" + verbo + \" \" + adj\n",
        "print(frase)"
      ],
      "metadata": {
        "colab": {
          "base_uri": "https://localhost:8080/"
        },
        "id": "gfv8qIoumjbW",
        "outputId": "1e2f60e5-20b7-4205-bcd7-624a3c6d544f"
      },
      "execution_count": 1,
      "outputs": [
        {
          "output_type": "stream",
          "name": "stdout",
          "text": [
            "A pessoas são lindas\n"
          ]
        }
      ]
    },
    {
      "cell_type": "markdown",
      "source": [
        "**Exercício 16**"
      ],
      "metadata": {
        "id": "f-TQ550giLAG"
      }
    },
    {
      "cell_type": "code",
      "source": [
        "idade = 18\n",
        "\n",
        "if idade >= 18:\n",
        "  print(\"Você pode tirar CNH\")\n",
        "elif idade < 18:\n",
        "  print(\"Você não pode tirar CNH\")\n",
        ""
      ],
      "metadata": {
        "id": "UBHC86U4mjvO",
        "colab": {
          "base_uri": "https://localhost:8080/"
        },
        "outputId": "e41d6fee-8d7a-4eea-c924-29e83bf979b7"
      },
      "execution_count": 2,
      "outputs": [
        {
          "output_type": "stream",
          "name": "stdout",
          "text": [
            "Você pode tirar CNH\n"
          ]
        }
      ]
    },
    {
      "cell_type": "markdown",
      "source": [
        "**Exercício 17**"
      ],
      "metadata": {
        "id": "NDIQjkV9iLEW"
      }
    },
    {
      "cell_type": "code",
      "source": [
        "senha_correta = \"python123\"\n",
        "senha = input(\"Digite a senha: \")\n",
        "\n",
        "if senha == senha_correta:\n",
        "  print(\"Login com sucesso!\")\n",
        "else:\n",
        "  print(\"Senha incorreta\")"
      ],
      "metadata": {
        "id": "zGOev8TnmkC4",
        "colab": {
          "base_uri": "https://localhost:8080/"
        },
        "outputId": "efea4e8c-da67-4dfe-d233-4b6c9fd033cf"
      },
      "execution_count": 3,
      "outputs": [
        {
          "output_type": "stream",
          "name": "stdout",
          "text": [
            "Digite a senha: python123\n",
            "Login com sucesso!\n"
          ]
        }
      ]
    },
    {
      "cell_type": "markdown",
      "source": [
        "**Exercício 18**"
      ],
      "metadata": {
        "id": "o5bqCyeaiLIX"
      }
    },
    {
      "cell_type": "code",
      "source": [
        "numero = int(input(\"Digite o número que deseja:\"))\n",
        "\n",
        "if numero >= 0:\n",
        "  print(\"O número é positivo\")\n",
        "else:\n",
        "  print(\"O número é negativo\")"
      ],
      "metadata": {
        "id": "RcCNhfH7mkdm",
        "colab": {
          "base_uri": "https://localhost:8080/"
        },
        "outputId": "3290a679-ac95-47a3-cce4-3ce90a7d83ff"
      },
      "execution_count": 7,
      "outputs": [
        {
          "output_type": "stream",
          "name": "stdout",
          "text": [
            "Digite o número que deseja:16\n",
            "O número é positivo\n"
          ]
        }
      ]
    },
    {
      "cell_type": "markdown",
      "source": [
        "**Exercício 19**"
      ],
      "metadata": {
        "id": "fNIef77kiLMH"
      }
    },
    {
      "cell_type": "code",
      "source": [
        "num = int(input(\"Digite um número:\"))\n",
        "\n",
        "if num % 2 == 0:\n",
        "  print(\"O número é par\")\n",
        "else:\n",
        "  print(\"O número é ímpar\")"
      ],
      "metadata": {
        "colab": {
          "base_uri": "https://localhost:8080/"
        },
        "id": "pdCsaXx30psv",
        "outputId": "45298243-56f8-44c2-c6b2-794bad38f941"
      },
      "execution_count": 14,
      "outputs": [
        {
          "output_type": "stream",
          "name": "stdout",
          "text": [
            "Digite um número:15\n",
            "O número é ímpar\n"
          ]
        }
      ]
    },
    {
      "cell_type": "markdown",
      "source": [
        "**Exercício 20**"
      ],
      "metadata": {
        "id": "UK6c7eqjifAH"
      }
    },
    {
      "cell_type": "code",
      "source": [
        "temperatura = float(input(\"Digite a temperatura em graus Celsius: \"))\n",
        "\n",
        "if temperatura >=25:\n",
        "  print(\"Está calor!\")\n",
        "elif temperatura >= 15:\n",
        "  print(\"Está agradável o clima!\")\n",
        "else:\n",
        "  print(\"Está frio!\")"
      ],
      "metadata": {
        "colab": {
          "base_uri": "https://localhost:8080/"
        },
        "id": "8EIPV1Yozucx",
        "outputId": "aade7b83-3476-466d-f92c-8ec2eab96137"
      },
      "execution_count": 13,
      "outputs": [
        {
          "output_type": "stream",
          "name": "stdout",
          "text": [
            "Digite a temperatura em graus Celsius: 24\n",
            "Está agradável o clima!\n"
          ]
        }
      ]
    },
    {
      "cell_type": "markdown",
      "source": [
        "**Exercício 21**"
      ],
      "metadata": {
        "id": "aATaqd7rie65"
      }
    },
    {
      "cell_type": "code",
      "source": [
        "for num in range(1,11):\n",
        "  print(num)"
      ],
      "metadata": {
        "colab": {
          "base_uri": "https://localhost:8080/"
        },
        "id": "qvwyp6TQ0waB",
        "outputId": "fba3590b-91a1-4077-87b3-7bfb122ecf01"
      },
      "execution_count": 16,
      "outputs": [
        {
          "output_type": "stream",
          "name": "stdout",
          "text": [
            "1\n",
            "2\n",
            "3\n",
            "4\n",
            "5\n",
            "6\n",
            "7\n",
            "8\n",
            "9\n",
            "10\n"
          ]
        }
      ]
    },
    {
      "cell_type": "markdown",
      "source": [
        "**Exercício 22**"
      ],
      "metadata": {
        "id": "qHtghKoqifFm"
      }
    },
    {
      "cell_type": "code",
      "source": [
        "for num in range(10, 0, -1):\n",
        "  print(num)"
      ],
      "metadata": {
        "colab": {
          "base_uri": "https://localhost:8080/"
        },
        "id": "XBYmdStu0w2I",
        "outputId": "4621be58-2d6c-4e42-e7a3-2a34d15b6017"
      },
      "execution_count": 17,
      "outputs": [
        {
          "output_type": "stream",
          "name": "stdout",
          "text": [
            "10\n",
            "9\n",
            "8\n",
            "7\n",
            "6\n",
            "5\n",
            "4\n",
            "3\n",
            "2\n",
            "1\n"
          ]
        }
      ]
    },
    {
      "cell_type": "markdown",
      "source": [
        "**Exercício 23**"
      ],
      "metadata": {
        "id": "OqDuELAnifOW"
      }
    },
    {
      "cell_type": "code",
      "source": [
        "numero = 5\n",
        "\n",
        "for i in range(1, 11):\n",
        "  resultado = numero * i\n",
        "  print(f\"{numero} x {i} = {resultado}\")"
      ],
      "metadata": {
        "colab": {
          "base_uri": "https://localhost:8080/"
        },
        "id": "qpWzl0gb0xQg",
        "outputId": "898def33-a190-42d7-ca1b-a4e97e8d66ca"
      },
      "execution_count": 18,
      "outputs": [
        {
          "output_type": "stream",
          "name": "stdout",
          "text": [
            "5 x 1 = 5\n",
            "5 x 2 = 10\n",
            "5 x 3 = 15\n",
            "5 x 4 = 20\n",
            "5 x 5 = 25\n",
            "5 x 6 = 30\n",
            "5 x 7 = 35\n",
            "5 x 8 = 40\n",
            "5 x 9 = 45\n",
            "5 x 10 = 50\n"
          ]
        }
      ]
    },
    {
      "cell_type": "markdown",
      "source": [
        "**Exercício 24**"
      ],
      "metadata": {
        "id": "WAaDtk4vifRX"
      }
    },
    {
      "cell_type": "code",
      "source": [
        "lista_frutas = [\"laranja\", \"uva\", \"banana\", \"manga\"]\n",
        "\n",
        "for fruta in lista_frutas:\n",
        "  print(fruta)"
      ],
      "metadata": {
        "id": "JSMBg3TnVCzz",
        "colab": {
          "base_uri": "https://localhost:8080/"
        },
        "outputId": "9abf1c03-5c21-49a8-a9b6-5196937a1efb"
      },
      "execution_count": 28,
      "outputs": [
        {
          "output_type": "stream",
          "name": "stdout",
          "text": [
            "laranja\n",
            "uva\n",
            "banana\n",
            "manga\n"
          ]
        }
      ]
    },
    {
      "cell_type": "markdown",
      "source": [
        "**Exercício 25**"
      ],
      "metadata": {
        "id": "wLwM_v88ipTq"
      }
    },
    {
      "cell_type": "code",
      "source": [
        "soma = 0\n",
        "for i in range(1, 101):\n",
        "  soma += i\n",
        "\n",
        "print(\"Soma total:\",soma)\n"
      ],
      "metadata": {
        "colab": {
          "base_uri": "https://localhost:8080/"
        },
        "id": "oh-E9kho0xGW",
        "outputId": "90a185c7-104d-429f-8526-c7b19c8da6ea"
      },
      "execution_count": 35,
      "outputs": [
        {
          "output_type": "stream",
          "name": "stdout",
          "text": [
            "Soma total: 5050\n"
          ]
        }
      ]
    },
    {
      "cell_type": "markdown",
      "source": [
        "**Exercício 26**"
      ],
      "metadata": {
        "id": "Y5HeBipjipZH"
      }
    },
    {
      "cell_type": "code",
      "source": [
        "frase = str(input(\"Digite uma frase:\"))\n",
        "numero = int(input(\"Digite quantidade de vezes:\"))\n",
        "\n",
        "for _ in range(numero):\n",
        "  print(frase)"
      ],
      "metadata": {
        "colab": {
          "base_uri": "https://localhost:8080/"
        },
        "id": "L2LgBX4z52gf",
        "outputId": "4bedc006-15ed-4815-babc-d7917acb4046"
      },
      "execution_count": 37,
      "outputs": [
        {
          "output_type": "stream",
          "name": "stdout",
          "text": [
            "Digite uma frase:Frase \n",
            "Digite quantidade de vezes:4\n",
            "Frase \n",
            "Frase \n",
            "Frase \n",
            "Frase \n"
          ]
        }
      ]
    },
    {
      "cell_type": "markdown",
      "source": [
        "**Exercício 27**"
      ],
      "metadata": {
        "id": "NG47jNVjipfW"
      }
    },
    {
      "cell_type": "code",
      "source": [
        "frase = str(input(\"Digite uma frase:\"))\n",
        "total = 0\n",
        "\n",
        "for letra in frase:\n",
        "  if letra == \"a\" or letra == \"e\" or letra == \"i\" or letra == \"o\" or letra == \"u\":\n",
        "    total += 1\n",
        "\n",
        "print(\"O total de vogais são:\", total)"
      ],
      "metadata": {
        "colab": {
          "base_uri": "https://localhost:8080/"
        },
        "id": "cyNGPC6k53Ef",
        "outputId": "1ef732d9-f049-4e5d-a8f4-7ba5df917918"
      },
      "execution_count": 43,
      "outputs": [
        {
          "output_type": "stream",
          "name": "stdout",
          "text": [
            "Digite uma frase:frase\n",
            "O total de vogais são: 2\n"
          ]
        }
      ]
    },
    {
      "cell_type": "markdown",
      "source": [
        "**Exercício 28**"
      ],
      "metadata": {
        "id": "i_EgjdiAiptY"
      }
    },
    {
      "cell_type": "code",
      "source": [
        "palavra = str(input(\"Digite uma palavra:\"))\n",
        "invertida = \"\"\n",
        "\n",
        "for i in range(len(palavra) - 1, -1, -1):\n",
        "  invertida += palavra[i]\n",
        "\n",
        "print(\"Palavra invertida:\",invertida)"
      ],
      "metadata": {
        "colab": {
          "base_uri": "https://localhost:8080/"
        },
        "id": "PLZUC7V053f2",
        "outputId": "48a677bb-0531-4b12-b299-7a29593ce12d"
      },
      "execution_count": 57,
      "outputs": [
        {
          "output_type": "stream",
          "name": "stdout",
          "text": [
            "Digite uma palavra:abcd\n",
            "Palavra invertida: dcba\n"
          ]
        }
      ]
    },
    {
      "cell_type": "markdown",
      "source": [
        "**Exercício 29**"
      ],
      "metadata": {
        "id": "sVnWKZqkipw3"
      }
    },
    {
      "cell_type": "code",
      "source": [
        "tamanho = int(input(\"Digite o tamanho do triângulo: \"))\n",
        "\n",
        "for i in range(1, tamanho, + 1):\n",
        "    print(\"*\" * i)\n",
        "\n",
        "for i in range(tamanho, 0, -1):\n",
        "    print(\"*\" * i)\n",
        "\n"
      ],
      "metadata": {
        "colab": {
          "base_uri": "https://localhost:8080/"
        },
        "id": "YQeIORJx53vO",
        "outputId": "770e1771-6912-4d52-d793-ac94b0817915"
      },
      "execution_count": 68,
      "outputs": [
        {
          "output_type": "stream",
          "name": "stdout",
          "text": [
            "Digite o tamanho do triângulo: 5\n",
            "*\n",
            "**\n",
            "***\n",
            "****\n",
            "*****\n",
            "****\n",
            "***\n",
            "**\n",
            "*\n"
          ]
        }
      ]
    },
    {
      "cell_type": "markdown",
      "source": [
        "**Exercício 30**"
      ],
      "metadata": {
        "id": "hbT_BMWQipzX"
      }
    },
    {
      "cell_type": "code",
      "source": [
        "letras = ['p', 'y', 't', 'h', 'o', 'n']\n",
        "palavra = \"\"\n",
        "\n",
        "for letra in letras:\n",
        "    palavra += letra\n",
        "\n",
        "print(palavra)\n"
      ],
      "metadata": {
        "colab": {
          "base_uri": "https://localhost:8080/"
        },
        "id": "XryRD0nZJmT0",
        "outputId": "0d459c6e-86e5-4ce1-95c6-8fca8442cacd"
      },
      "execution_count": 71,
      "outputs": [
        {
          "output_type": "stream",
          "name": "stdout",
          "text": [
            "python\n"
          ]
        }
      ]
    }
  ]
}